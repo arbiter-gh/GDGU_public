{
 "cells": [
  {
   "cell_type": "markdown",
   "id": "c4909ac1",
   "metadata": {},
   "source": [
    "Accept personal details, such as name, age, city etc. and display it"
   ]
  },
  {
   "cell_type": "code",
   "execution_count": 2,
   "id": "a35ac9d1",
   "metadata": {},
   "outputs": [],
   "source": [
    "name = input(\"Enter your name : \")\n",
    "age = int(input(\"Enter your age : \"))\n",
    "city = input(\"Enter your city : \")"
   ]
  },
  {
   "cell_type": "code",
   "execution_count": 3,
   "id": "de783b12",
   "metadata": {},
   "outputs": [
    {
     "name": "stdout",
     "output_type": "stream",
     "text": [
      "Name :  Rahul\n",
      "Age :  20\n",
      "City :  Bokaro\n"
     ]
    }
   ],
   "source": [
    "print(\"Name : \", name)\n",
    "print(\"Age : \", age)\n",
    "print(\"City : \", city)"
   ]
  },
  {
   "cell_type": "markdown",
   "id": "cc57b117",
   "metadata": {},
   "source": [
    "### Arithmetic operators\n",
    "Arithmetic operators are used with numeric values to perform common mathematical operations.\n",
    "\n",
    "All arithmetic operators are binary operators."
   ]
  },
  {
   "cell_type": "code",
   "execution_count": 4,
   "id": "c7c131b3",
   "metadata": {},
   "outputs": [],
   "source": [
    "num1 = int(input(\"Enter first number : \"))\n",
    "num2 = int(input(\"Enter second number : \"))"
   ]
  },
  {
   "cell_type": "markdown",
   "id": "93265a7b",
   "metadata": {},
   "source": [
    "**Addition** - Adds two operands"
   ]
  },
  {
   "cell_type": "code",
   "execution_count": 5,
   "id": "ecb8ebc8",
   "metadata": {},
   "outputs": [
    {
     "data": {
      "text/plain": [
       "15"
      ]
     },
     "execution_count": 5,
     "metadata": {},
     "output_type": "execute_result"
    }
   ],
   "source": [
    "num1 + num2 "
   ]
  },
  {
   "cell_type": "markdown",
   "id": "9be1b3df",
   "metadata": {},
   "source": [
    "**Substraction** - Subtracts the right operand from the left operand"
   ]
  },
  {
   "cell_type": "code",
   "execution_count": 6,
   "id": "f45da8d4",
   "metadata": {},
   "outputs": [
    {
     "data": {
      "text/plain": [
       "5"
      ]
     },
     "execution_count": 6,
     "metadata": {},
     "output_type": "execute_result"
    }
   ],
   "source": [
    "num1 - num2"
   ]
  },
  {
   "cell_type": "markdown",
   "id": "764be419",
   "metadata": {},
   "source": [
    "**Multiplication** - Multiplies two operands"
   ]
  },
  {
   "cell_type": "code",
   "execution_count": 7,
   "id": "d05662e0",
   "metadata": {},
   "outputs": [
    {
     "data": {
      "text/plain": [
       "50"
      ]
     },
     "execution_count": 7,
     "metadata": {},
     "output_type": "execute_result"
    }
   ],
   "source": [
    "num1 * num2"
   ]
  },
  {
   "cell_type": "markdown",
   "id": "a5937ef3",
   "metadata": {},
   "source": [
    "**Division** - Divides the left operand by the right operand (result is a float)"
   ]
  },
  {
   "cell_type": "code",
   "execution_count": 8,
   "id": "e0fd5139",
   "metadata": {},
   "outputs": [
    {
     "data": {
      "text/plain": [
       "2.0"
      ]
     },
     "execution_count": 8,
     "metadata": {},
     "output_type": "execute_result"
    }
   ],
   "source": [
    "num1 / num2"
   ]
  },
  {
   "cell_type": "markdown",
   "id": "1ea6f3dd",
   "metadata": {},
   "source": [
    "**Floor Division** - Divides the left operand by the right operand and returns the largest integer less than or equal to the result"
   ]
  },
  {
   "cell_type": "code",
   "execution_count": 9,
   "id": "0e4478ec",
   "metadata": {},
   "outputs": [
    {
     "data": {
      "text/plain": [
       "2"
      ]
     },
     "execution_count": 9,
     "metadata": {},
     "output_type": "execute_result"
    }
   ],
   "source": [
    "num1 // num2"
   ]
  },
  {
   "cell_type": "markdown",
   "id": "9a24ce27",
   "metadata": {},
   "source": [
    "**Modulus** - Returns the remainder when the left operand is divided by the right operand"
   ]
  },
  {
   "cell_type": "code",
   "execution_count": 10,
   "id": "3bee7e27",
   "metadata": {},
   "outputs": [
    {
     "data": {
      "text/plain": [
       "0"
      ]
     },
     "execution_count": 10,
     "metadata": {},
     "output_type": "execute_result"
    }
   ],
   "source": [
    "num1 % num2"
   ]
  },
  {
   "cell_type": "markdown",
   "id": "633fb930",
   "metadata": {},
   "source": [
    "**Exponential** - Raises the left operand to the power of the right operand"
   ]
  },
  {
   "cell_type": "code",
   "execution_count": 11,
   "id": "e1f09fc5",
   "metadata": {},
   "outputs": [
    {
     "data": {
      "text/plain": [
       "100000"
      ]
     },
     "execution_count": 11,
     "metadata": {},
     "output_type": "execute_result"
    }
   ],
   "source": [
    "num1 ** num2"
   ]
  },
  {
   "cell_type": "markdown",
   "id": "cecd8923",
   "metadata": {},
   "source": [
    "### Bitwise operator\n",
    "Bitwise operators in Python perform operations on the individual bits of integers"
   ]
  },
  {
   "cell_type": "code",
   "execution_count": 12,
   "id": "1ad1b976",
   "metadata": {},
   "outputs": [],
   "source": [
    "num1 = int(input(\"Enter first number : \"))\n",
    "num2 = int(input(\"Enter second number : \"))"
   ]
  },
  {
   "cell_type": "markdown",
   "id": "3ce2a530",
   "metadata": {},
   "source": [
    "**Bitwise AND (&)** - Returns 1 for each bit position where both corresponding bits are 1"
   ]
  },
  {
   "cell_type": "code",
   "execution_count": 13,
   "id": "5462fa6a",
   "metadata": {},
   "outputs": [
    {
     "data": {
      "text/plain": [
       "4"
      ]
     },
     "execution_count": 13,
     "metadata": {},
     "output_type": "execute_result"
    }
   ],
   "source": [
    "num1 & num2"
   ]
  },
  {
   "cell_type": "markdown",
   "id": "83b72f34",
   "metadata": {},
   "source": [
    "**Bitwise OR (|)** - Returns 1 for each bit position where at least one of the corresponding bits is 1"
   ]
  },
  {
   "cell_type": "code",
   "execution_count": 14,
   "id": "d86c7d38",
   "metadata": {},
   "outputs": [
    {
     "data": {
      "text/plain": [
       "5"
      ]
     },
     "execution_count": 14,
     "metadata": {},
     "output_type": "execute_result"
    }
   ],
   "source": [
    "num1 | num2"
   ]
  },
  {
   "cell_type": "markdown",
   "id": "66ab5e60",
   "metadata": {},
   "source": [
    "**Bitwise XOR (^)**: Returns 1 for each bit position where only one of the corresponding bits is 1"
   ]
  },
  {
   "cell_type": "code",
   "execution_count": 15,
   "id": "d1c5c7ed",
   "metadata": {},
   "outputs": [
    {
     "data": {
      "text/plain": [
       "1"
      ]
     },
     "execution_count": 15,
     "metadata": {},
     "output_type": "execute_result"
    }
   ],
   "source": [
    "num1 ^ num2"
   ]
  },
  {
   "cell_type": "markdown",
   "id": "6f4d2503",
   "metadata": {},
   "source": [
    "**Bitwise NOT (~)**: Inverts the bits of its operand, changing 1s to 0s and 0s to 1s."
   ]
  },
  {
   "cell_type": "code",
   "execution_count": 16,
   "id": "c0d1dd1d",
   "metadata": {},
   "outputs": [
    {
     "data": {
      "text/plain": [
       "-5"
      ]
     },
     "execution_count": 16,
     "metadata": {},
     "output_type": "execute_result"
    }
   ],
   "source": [
    "~num1"
   ]
  },
  {
   "cell_type": "markdown",
   "id": "8f3638d3",
   "metadata": {},
   "source": [
    "**Left Shift (<<)**: Shifts the bits of the left operand to the left by a specified number of positions. The vacant positions are filled with zeros."
   ]
  },
  {
   "cell_type": "code",
   "execution_count": 17,
   "id": "61483afd",
   "metadata": {},
   "outputs": [
    {
     "data": {
      "text/plain": [
       "16"
      ]
     },
     "execution_count": 17,
     "metadata": {},
     "output_type": "execute_result"
    }
   ],
   "source": [
    "num1 << 2"
   ]
  },
  {
   "cell_type": "markdown",
   "id": "805bde5f",
   "metadata": {},
   "source": [
    "**Right Shift (>>)**: Shifts the bits of the left operand to the right by a specified number of positions. The vacant positions are filled based on the sign bit (for signed integers) or with zeros (for unsigned integers).\n"
   ]
  },
  {
   "cell_type": "code",
   "execution_count": 18,
   "id": "b81d4ac6",
   "metadata": {},
   "outputs": [
    {
     "data": {
      "text/plain": [
       "1"
      ]
     },
     "execution_count": 18,
     "metadata": {},
     "output_type": "execute_result"
    }
   ],
   "source": [
    "num1 >> 2"
   ]
  },
  {
   "cell_type": "markdown",
   "id": "cc3d0973",
   "metadata": {},
   "source": [
    "### Comparison operator\n",
    "Comparison operators are used to compare two values and return a Boolean result indicating whether the comparison is true or false."
   ]
  },
  {
   "cell_type": "code",
   "execution_count": 19,
   "id": "51ceebfb",
   "metadata": {},
   "outputs": [],
   "source": [
    "num1 = int(input(\"Enter first number : \"))\n",
    "num2 = int(input(\"Enter second number : \"))"
   ]
  },
  {
   "cell_type": "markdown",
   "id": "6dbcdfc4",
   "metadata": {},
   "source": [
    "**Equal to (==)**: Returns True if the operands are equal."
   ]
  },
  {
   "cell_type": "code",
   "execution_count": 20,
   "id": "fea47d5a",
   "metadata": {},
   "outputs": [
    {
     "data": {
      "text/plain": [
       "False"
      ]
     },
     "execution_count": 20,
     "metadata": {},
     "output_type": "execute_result"
    }
   ],
   "source": [
    "num1 == num2"
   ]
  },
  {
   "cell_type": "markdown",
   "id": "ac5c8c65",
   "metadata": {},
   "source": [
    "**Greater than (>)**: Returns True if the left operand is greater than the right operand."
   ]
  },
  {
   "cell_type": "code",
   "execution_count": 21,
   "id": "7a834627",
   "metadata": {},
   "outputs": [
    {
     "data": {
      "text/plain": [
       "False"
      ]
     },
     "execution_count": 21,
     "metadata": {},
     "output_type": "execute_result"
    }
   ],
   "source": [
    "num1 > num2"
   ]
  },
  {
   "cell_type": "markdown",
   "id": "93dbc97d",
   "metadata": {},
   "source": [
    "**Greater than or equal to (>=)**: Returns True if the left operand is greater than or equal to the right operand."
   ]
  },
  {
   "cell_type": "code",
   "execution_count": 22,
   "id": "d78edee8",
   "metadata": {},
   "outputs": [
    {
     "data": {
      "text/plain": [
       "False"
      ]
     },
     "execution_count": 22,
     "metadata": {},
     "output_type": "execute_result"
    }
   ],
   "source": [
    "num1 >= num2"
   ]
  },
  {
   "cell_type": "markdown",
   "id": "6a4fb629",
   "metadata": {},
   "source": [
    "**Less than (<)**: Returns True if the left operand is less than the right operand."
   ]
  },
  {
   "cell_type": "code",
   "execution_count": 23,
   "id": "d90774a4",
   "metadata": {},
   "outputs": [
    {
     "data": {
      "text/plain": [
       "True"
      ]
     },
     "execution_count": 23,
     "metadata": {},
     "output_type": "execute_result"
    }
   ],
   "source": [
    "num1 < num2"
   ]
  },
  {
   "cell_type": "markdown",
   "id": "af9d833d",
   "metadata": {},
   "source": [
    "**Less than or equal to (<=)**: Returns True if the left operand is less than or equal to the right operand."
   ]
  },
  {
   "cell_type": "code",
   "execution_count": 24,
   "id": "bd55a0cc",
   "metadata": {},
   "outputs": [
    {
     "data": {
      "text/plain": [
       "True"
      ]
     },
     "execution_count": 24,
     "metadata": {},
     "output_type": "execute_result"
    }
   ],
   "source": [
    "num1 <= num2"
   ]
  },
  {
   "cell_type": "markdown",
   "id": "6c512902",
   "metadata": {},
   "source": [
    "**Not equal to (!=)**: Returns True if the operands are not equal."
   ]
  },
  {
   "cell_type": "code",
   "execution_count": 25,
   "id": "bf4c9a65",
   "metadata": {},
   "outputs": [
    {
     "data": {
      "text/plain": [
       "True"
      ]
     },
     "execution_count": 25,
     "metadata": {},
     "output_type": "execute_result"
    }
   ],
   "source": [
    "num1 != num2"
   ]
  },
  {
   "cell_type": "markdown",
   "id": "8d2288f6",
   "metadata": {},
   "source": [
    "### Logical opertor\n",
    "Logical operators in Python are used to combine or modify Boolean values."
   ]
  },
  {
   "cell_type": "code",
   "execution_count": 26,
   "id": "87de5624",
   "metadata": {},
   "outputs": [],
   "source": [
    "num1 = int(input(\"Enter first number : \"))\n",
    "num2 = int(input(\"Enter second number : \"))\n",
    "num3 = int(input(\"Enter third number : \"))\n",
    "num4 = int(input(\"Enter fourth number : \"))"
   ]
  },
  {
   "cell_type": "markdown",
   "id": "2fa490ef",
   "metadata": {},
   "source": [
    "**Logical AND (and)**: Returns True if both operands are True."
   ]
  },
  {
   "cell_type": "code",
   "execution_count": 27,
   "id": "2ce269f8",
   "metadata": {},
   "outputs": [
    {
     "data": {
      "text/plain": [
       "False"
      ]
     },
     "execution_count": 27,
     "metadata": {},
     "output_type": "execute_result"
    }
   ],
   "source": [
    "(num1 > num2) and (num3 < num4)"
   ]
  },
  {
   "cell_type": "markdown",
   "id": "ccde933d",
   "metadata": {},
   "source": [
    "**Logical OR (or)**: Returns True if at least one of the operands is True."
   ]
  },
  {
   "cell_type": "code",
   "execution_count": 28,
   "id": "be8d2cf3",
   "metadata": {},
   "outputs": [
    {
     "data": {
      "text/plain": [
       "True"
      ]
     },
     "execution_count": 28,
     "metadata": {},
     "output_type": "execute_result"
    }
   ],
   "source": [
    "(num1 > num2) or (num3 < num4)"
   ]
  },
  {
   "cell_type": "markdown",
   "id": "24753f07",
   "metadata": {},
   "source": [
    "**Logical NOT (not)**: Returns the opposite Boolean value of the operand. If the operand is True, not returns False, and vice versa."
   ]
  },
  {
   "cell_type": "code",
   "execution_count": 29,
   "id": "2a5ed87f",
   "metadata": {},
   "outputs": [
    {
     "data": {
      "text/plain": [
       "True"
      ]
     },
     "execution_count": 29,
     "metadata": {},
     "output_type": "execute_result"
    }
   ],
   "source": [
    "not((num1 > num2) and (num3 < num4))"
   ]
  },
  {
   "cell_type": "markdown",
   "id": "09966eeb",
   "metadata": {},
   "source": [
    "### Indentity operator\n",
    "Identity operators in Python are used to compare the memory locations of two objects. "
   ]
  },
  {
   "cell_type": "code",
   "execution_count": 30,
   "id": "87024fc1",
   "metadata": {},
   "outputs": [],
   "source": [
    "list1 = [\"apple\", \"banana\"]\n",
    "list2 = [\"apple\", \"banana\"]\n",
    "list3 = list2"
   ]
  },
  {
   "cell_type": "markdown",
   "id": "103c68a1",
   "metadata": {},
   "source": [
    "**is**: Returns True if both operands refer to the same object in memory."
   ]
  },
  {
   "cell_type": "code",
   "execution_count": 31,
   "id": "c4dd84c9",
   "metadata": {},
   "outputs": [
    {
     "data": {
      "text/plain": [
       "True"
      ]
     },
     "execution_count": 31,
     "metadata": {},
     "output_type": "execute_result"
    }
   ],
   "source": [
    "list3 is list2"
   ]
  },
  {
   "cell_type": "code",
   "execution_count": 32,
   "id": "d81151d3",
   "metadata": {},
   "outputs": [
    {
     "data": {
      "text/plain": [
       "False"
      ]
     },
     "execution_count": 32,
     "metadata": {},
     "output_type": "execute_result"
    }
   ],
   "source": [
    "list3 is list1"
   ]
  },
  {
   "cell_type": "markdown",
   "id": "b09ad6a0",
   "metadata": {},
   "source": [
    "**is not**: Returns True if both operands do not refer to the same object in memory."
   ]
  },
  {
   "cell_type": "code",
   "execution_count": 33,
   "id": "3eae63c5",
   "metadata": {},
   "outputs": [
    {
     "data": {
      "text/plain": [
       "True"
      ]
     },
     "execution_count": 33,
     "metadata": {},
     "output_type": "execute_result"
    }
   ],
   "source": [
    "list3 is not list1"
   ]
  },
  {
   "cell_type": "code",
   "execution_count": 34,
   "id": "0f1a5dc6",
   "metadata": {},
   "outputs": [
    {
     "data": {
      "text/plain": [
       "False"
      ]
     },
     "execution_count": 34,
     "metadata": {},
     "output_type": "execute_result"
    }
   ],
   "source": [
    "list3 is not list2"
   ]
  },
  {
   "cell_type": "markdown",
   "id": "2718434e",
   "metadata": {},
   "source": [
    "### Membership operator\n",
    "Membership operators in Python are used to test whether a value is a member of a sequence (such as a string, list, or tuple)"
   ]
  },
  {
   "cell_type": "code",
   "execution_count": 35,
   "id": "c3877399",
   "metadata": {},
   "outputs": [],
   "source": [
    "even = [2, 4, 6, 8, 10, 12, 14, 16, 20]"
   ]
  },
  {
   "cell_type": "markdown",
   "id": "21933967",
   "metadata": {},
   "source": [
    "**in**: Returns True if the specified value is found in the sequence."
   ]
  },
  {
   "cell_type": "code",
   "execution_count": 36,
   "id": "6b06bf74",
   "metadata": {},
   "outputs": [
    {
     "data": {
      "text/plain": [
       "True"
      ]
     },
     "execution_count": 36,
     "metadata": {},
     "output_type": "execute_result"
    }
   ],
   "source": [
    "2 in even"
   ]
  },
  {
   "cell_type": "code",
   "execution_count": 37,
   "id": "b06d760a",
   "metadata": {},
   "outputs": [
    {
     "data": {
      "text/plain": [
       "False"
      ]
     },
     "execution_count": 37,
     "metadata": {},
     "output_type": "execute_result"
    }
   ],
   "source": [
    "3 in even"
   ]
  },
  {
   "cell_type": "markdown",
   "id": "08ee0b83",
   "metadata": {},
   "source": [
    "**not in**: Returns True if the specified value is not found in the sequence."
   ]
  },
  {
   "cell_type": "code",
   "execution_count": 38,
   "id": "75bc6a59",
   "metadata": {},
   "outputs": [
    {
     "data": {
      "text/plain": [
       "False"
      ]
     },
     "execution_count": 38,
     "metadata": {},
     "output_type": "execute_result"
    }
   ],
   "source": [
    "4 not in even"
   ]
  },
  {
   "cell_type": "code",
   "execution_count": 39,
   "id": "60ef1c6c",
   "metadata": {},
   "outputs": [
    {
     "data": {
      "text/plain": [
       "True"
      ]
     },
     "execution_count": 39,
     "metadata": {},
     "output_type": "execute_result"
    }
   ],
   "source": [
    "5 not in even"
   ]
  },
  {
   "cell_type": "markdown",
   "id": "5e73b927",
   "metadata": {},
   "source": [
    "### Largest and Smallest\n",
    "Find Largest and Smallest among 3 numbers"
   ]
  },
  {
   "cell_type": "code",
   "execution_count": 40,
   "id": "bcbd418c",
   "metadata": {},
   "outputs": [],
   "source": [
    "x = 3\n",
    "y = 2\n",
    "z = 9"
   ]
  },
  {
   "cell_type": "code",
   "execution_count": 41,
   "id": "5ce95b18",
   "metadata": {},
   "outputs": [
    {
     "data": {
      "text/plain": [
       "2"
      ]
     },
     "execution_count": 41,
     "metadata": {},
     "output_type": "execute_result"
    }
   ],
   "source": [
    "min(x,y,z)"
   ]
  },
  {
   "cell_type": "code",
   "execution_count": 42,
   "id": "fcc57928",
   "metadata": {},
   "outputs": [
    {
     "data": {
      "text/plain": [
       "9"
      ]
     },
     "execution_count": 42,
     "metadata": {},
     "output_type": "execute_result"
    }
   ],
   "source": [
    "max(x,y,z)"
   ]
  },
  {
   "cell_type": "code",
   "execution_count": 43,
   "id": "c71aecfc",
   "metadata": {},
   "outputs": [],
   "source": [
    "x = 3.32\n",
    "y = 2.5\n",
    "z = 9.345"
   ]
  },
  {
   "cell_type": "code",
   "execution_count": 44,
   "id": "bdb043ea",
   "metadata": {},
   "outputs": [
    {
     "data": {
      "text/plain": [
       "2.5"
      ]
     },
     "execution_count": 44,
     "metadata": {},
     "output_type": "execute_result"
    }
   ],
   "source": [
    "min(x,y,z)"
   ]
  },
  {
   "cell_type": "code",
   "execution_count": 45,
   "id": "d28b0f03",
   "metadata": {},
   "outputs": [
    {
     "data": {
      "text/plain": [
       "9.345"
      ]
     },
     "execution_count": 45,
     "metadata": {},
     "output_type": "execute_result"
    }
   ],
   "source": [
    "max(x,y,z)"
   ]
  }
 ],
 "metadata": {
  "kernelspec": {
   "display_name": "Python 3 (ipykernel)",
   "language": "python",
   "name": "python3"
  },
  "language_info": {
   "codemirror_mode": {
    "name": "ipython",
    "version": 3
   },
   "file_extension": ".py",
   "mimetype": "text/x-python",
   "name": "python",
   "nbconvert_exporter": "python",
   "pygments_lexer": "ipython3",
   "version": "3.12.0"
  }
 },
 "nbformat": 4,
 "nbformat_minor": 5
}
